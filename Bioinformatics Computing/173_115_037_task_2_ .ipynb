{
 "cells": [
  {
   "cell_type": "markdown",
   "id": "41dec075",
   "metadata": {
    "id": "41dec075"
   },
   "source": [
    "<h3 align=\"center\"> Bioinformatics Computing Lab (CSE 470)</h3>\n",
    "<hr>\n",
    "<p>\n",
    "    <strong> Forhad Ahmed Khan </strong>\n",
    "    <br> \n",
    "    <span> ID: <em> 173-115-037 </em> </span>\n",
    "    <br>\n",
    "    <span> Batch: <em> 44th (C) </em> </span>\n",
    "    <br>\n",
    "    <span> Dept: <em> CSE </em> </span>\n",
    "</p>\n",
    "<p> Email: <a href= \"mailto:fakhan.cse@gmail.com\">fakhan.cse@gmail.com</a> <br>\n",
    "ROSALIND ID: <a href= \"https://rosalind.info/users/forhad/\">https://rosalind.info/users/forhad/</a> </p>\n",
    "<hr>"
   ]
  },
  {
   "cell_type": "markdown",
   "id": "272ef2cd",
   "metadata": {
    "id": "272ef2cd"
   },
   "source": [
    "<h1 align=\"center\"> Task 2 </h1>\n",
    "<hr>\n",
    "<hr>"
   ]
  },
  {
   "cell_type": "markdown",
   "id": "83221ee7",
   "metadata": {
    "id": "83221ee7"
   },
   "source": [
    "## Question-1: Find a Position in a Genome Minimizing the Skew ([BA1F](http://rosalind.info/problems/ba1f/))"
   ]
  },
  {
   "cell_type": "markdown",
   "id": "89453826",
   "metadata": {
    "id": "89453826"
   },
   "source": [
    "<em>Find a position in a genome minimizing the skew.</em>\n",
    "\n",
    "<strong>Given:</strong> <em>A DNA string Genome.</em> \n",
    "\n",
    "<strong>Return:</strong> <em>All integer(s) i minimizing Skew(Prefix<sub>i</sub> (Text)) over all values of i (from 0 to |Genome|).</em> "
   ]
  },
  {
   "cell_type": "markdown",
   "id": "bd176da8",
   "metadata": {
    "id": "bd176da8"
   },
   "source": [
    "**Sample Dataset:** \n",
    "    \n",
    "        CCTATCGGTGGATTAGCATGTCCCTGTACGTTTCGCCGCGAACTAGTTCACACGGCTTGATGGCAAATGGTTTTTCCGGCGACCGTAATCGTCCACCGAG\n",
    "    "
   ]
  },
  {
   "cell_type": "markdown",
   "id": "d5916170",
   "metadata": {
    "id": "d5916170"
   },
   "source": [
    "**Sample Output:** \n",
    "    \n",
    "        53 97 \n",
    "   "
   ]
  },
  {
   "cell_type": "markdown",
   "id": "1bdc6db2",
   "metadata": {
    "id": "1bdc6db2"
   },
   "source": [
    "### Solution-1:"
   ]
  },
  {
   "cell_type": "code",
   "execution_count": 1,
   "id": "4cf6b140",
   "metadata": {
    "id": "4cf6b140"
   },
   "outputs": [
    {
     "name": "stdout",
     "output_type": "stream",
     "text": [
      "CCTATCGGTGGATTAGCATGTCCCTGTACGTTTCGCCGCGAACTAGTTCACACGGCTTGATGGCAAATGGTTTTTCCGGCGACCGTAATCGTCCACCGAG\n"
     ]
    },
    {
     "data": {
      "text/plain": [
       "'53 97'"
      ]
     },
     "execution_count": 1,
     "metadata": {},
     "output_type": "execute_result"
    }
   ],
   "source": [
    "def minimumSkew(genome): \n",
    "    oriC_positions = []\n",
    "    G = C = oriC_value = i = 0\n",
    "    while i < len(genome):\n",
    "        if genome[i].upper() == 'G': \n",
    "            G += 1\n",
    "        elif genome[i].upper() == 'C': \n",
    "            C += 1  \n",
    "        i += 1        \n",
    "        if oriC_value == (G-C):\n",
    "            oriC_positions.append(i)\n",
    "        elif oriC_value > (G-C):\n",
    "            oriC_positions = [i]  \n",
    "            oriC_value = G-C    \n",
    "    return ' '.join(map(str, oriC_positions))\n",
    "    \n",
    "minimumSkew(input())"
   ]
  },
  {
   "cell_type": "markdown",
   "id": "89c71ed4",
   "metadata": {
    "id": "89c71ed4"
   },
   "source": [
    "<hr>"
   ]
  },
  {
   "cell_type": "markdown",
   "id": "0b8110d9",
   "metadata": {
    "id": "0b8110d9"
   },
   "source": [
    "## Question-2: Compute the Hamming Distance Between Two Strings ([BA1G](http://rosalind.info/problems/ba1g/))"
   ]
  },
  {
   "cell_type": "markdown",
   "id": "8118de0d",
   "metadata": {
    "id": "8118de0d"
   },
   "source": [
    "<em>Compute the Hamming distance between two DNA strings.</em> \n",
    "\n",
    "<strong>Given:</strong> <em>Two DNA strings.</em>\n",
    "\n",
    "<strong>Return:</strong> <em>An integer value representing the Hamming distance.</em>\n"
   ]
  },
  {
   "cell_type": "markdown",
   "id": "46b04626",
   "metadata": {
    "id": "46b04626"
   },
   "source": [
    "**Sample Dataset:** \n",
    "    \n",
    "        GGGCCGTTGGT\n",
    "        GGACCGTTGAC\n",
    "    "
   ]
  },
  {
   "cell_type": "markdown",
   "id": "c273f76f",
   "metadata": {
    "id": "c273f76f"
   },
   "source": [
    "**Sample Output:** \n",
    "    \n",
    "        3\n",
    "   "
   ]
  },
  {
   "cell_type": "markdown",
   "id": "ed896724",
   "metadata": {
    "id": "ed896724"
   },
   "source": [
    "### Solution-2:"
   ]
  },
  {
   "cell_type": "code",
   "execution_count": 2,
   "id": "39b0571c",
   "metadata": {
    "id": "39b0571c"
   },
   "outputs": [
    {
     "name": "stdout",
     "output_type": "stream",
     "text": [
      "GGGCCGTTGGT\n",
      "GGACCGTTGAC\n"
     ]
    },
    {
     "data": {
      "text/plain": [
       "3"
      ]
     },
     "execution_count": 2,
     "metadata": {},
     "output_type": "execute_result"
    }
   ],
   "source": [
    "def hammingDistance(DNA1, DNA2):\n",
    "    return sum(1 for nucleotide1, nucleotide2 in zip(DNA1, DNA2) if nucleotide1 != nucleotide2)\n",
    "\n",
    "hammingDistance(input(), input())"
   ]
  },
  {
   "cell_type": "markdown",
   "id": "fbab5fab",
   "metadata": {
    "id": "fbab5fab"
   },
   "source": [
    "<hr>"
   ]
  },
  {
   "cell_type": "markdown",
   "id": "4781258b",
   "metadata": {
    "id": "4781258b"
   },
   "source": [
    "## Question-3: Find All Approximate Occurrences of a Pattern in a String ([BA1H](http://rosalind.info/problems/ba1h/))"
   ]
  },
  {
   "cell_type": "markdown",
   "id": "bfc494ca",
   "metadata": {
    "id": "bfc494ca"
   },
   "source": [
    "<em>Find all approximate occurrences of a pattern in a string.</em>\n",
    "\n",
    "<strong>Given:</strong> <em>Strings Pattern and Text along with an integer d.</em>\n",
    "\n",
    "<strong>Return:</strong> <em>All starting positions where Pattern appears as a substring of Text with at most d mismatches.</em>\n"
   ]
  },
  {
   "cell_type": "markdown",
   "id": "3ca595aa",
   "metadata": {
    "id": "3ca595aa"
   },
   "source": [
    "**Sample Dataset:** \n",
    "    \n",
    "        ATTCTGGA\n",
    "        CGCCCGAATCCAGAACGCATTCCCATATTTCGGGACCACTGGCCTCCACGGTACGGACGTCAATCAAATGCCTAGCGGCTTGTGGTTTCTCCTACGCTCC\n",
    "        3\n",
    "    "
   ]
  },
  {
   "cell_type": "markdown",
   "id": "d24898d9",
   "metadata": {
    "id": "d24898d9"
   },
   "source": [
    "**Sample Output:** \n",
    "    \n",
    "        6 7 26 27 78\n",
    "   "
   ]
  },
  {
   "cell_type": "markdown",
   "id": "e9704f0f",
   "metadata": {
    "id": "e9704f0f"
   },
   "source": [
    "### Solution-3:"
   ]
  },
  {
   "cell_type": "code",
   "execution_count": 3,
   "id": "54aac603",
   "metadata": {
    "id": "54aac603"
   },
   "outputs": [
    {
     "name": "stdout",
     "output_type": "stream",
     "text": [
      "ATTCTGGA\n",
      "CGCCCGAATCCAGAACGCATTCCCATATTTCGGGACCACTGGCCTCCACGGTACGGACGTCAATCAAATGCCTAGCGGCTTGTGGTTTCTCCTACGCTCC\n",
      "3\n"
     ]
    },
    {
     "data": {
      "text/plain": [
       "'6 7 26 27 78'"
      ]
     },
     "execution_count": 3,
     "metadata": {},
     "output_type": "execute_result"
    }
   ],
   "source": [
    "def hammingDistance(DNA1, DNA2):\n",
    "    return sum(1 for nucleotide1, nucleotide2 in zip(DNA1, DNA2) if nucleotide1 != nucleotide2)\n",
    "\n",
    "def approximateOccurrences(Pattern, Text, d):\n",
    "    windows = len(Text) - len(Pattern) + 1\n",
    "    occurrences = [i for i in range(windows) if hammingDistance(Pattern, Text[i:len(Pattern)+i]) <= d]\n",
    "    return \" \".join(map(str, occurrences))\n",
    "\n",
    "approximateOccurrences(input(), input(), int(input()))"
   ]
  },
  {
   "cell_type": "markdown",
   "id": "58a58e5b",
   "metadata": {
    "id": "58a58e5b"
   },
   "source": [
    "<hr>"
   ]
  },
  {
   "cell_type": "markdown",
   "id": "aeeb7375",
   "metadata": {
    "id": "aeeb7375"
   },
   "source": [
    "## Question-4: Find the Most Frequent Words with Mismatches in a String ([BA1I](http://rosalind.info/problems/ba1i/))"
   ]
  },
  {
   "cell_type": "markdown",
   "id": "ecc68b39",
   "metadata": {
    "id": "ecc68b39"
   },
   "source": [
    "<em>Find the most frequent k-mers with mismatches in a string.</em>\n",
    "\n",
    "<strong>Given:</strong> <em>A string Text as well as integers k and d.</em>\n",
    "\n",
    "<strong>Return:</strong> <em>All most frequent k-mers with up to d mismatches in Text.</em>\n"
   ]
  },
  {
   "cell_type": "markdown",
   "id": "b52e7786",
   "metadata": {
    "id": "b52e7786"
   },
   "source": [
    "**Sample Dataset:** \n",
    "    \n",
    "        ACGTTGCATGTCGCATGATGCATGAGAGCT\n",
    "        4 1\n",
    "    "
   ]
  },
  {
   "cell_type": "markdown",
   "id": "0f017f6b",
   "metadata": {
    "id": "0f017f6b"
   },
   "source": [
    "**Sample Output:** \n",
    "    \n",
    "        ATGC ATGT GATG\n",
    "   "
   ]
  },
  {
   "cell_type": "markdown",
   "id": "ccf706af",
   "metadata": {
    "id": "ccf706af"
   },
   "source": [
    "### Solution-4:"
   ]
  },
  {
   "cell_type": "code",
   "execution_count": 4,
   "id": "3700bb51",
   "metadata": {
    "id": "3700bb51"
   },
   "outputs": [
    {
     "name": "stdout",
     "output_type": "stream",
     "text": [
      "ACGTTGCATGTCGCATGATGCATGAGAGCT\n",
      "4 1\n"
     ]
    },
    {
     "data": {
      "text/plain": [
       "'ATGC ATGT GATG'"
      ]
     },
     "execution_count": 4,
     "metadata": {},
     "output_type": "execute_result"
    }
   ],
   "source": [
    "import itertools\n",
    "\n",
    "def hammingDistance(DNA1, DNA2):\n",
    "    return int(sum(1 for nucleotide1, nucleotide2 in zip(DNA1, DNA2) if nucleotide1 != nucleotide2))\n",
    "\n",
    "def mostFrequentWordsWithMismatches(Text, k, d):\n",
    "    kmers_frequency = {}\n",
    "    all_possible_kmers = list(map(''.join, itertools.product('ACGT', repeat=k)))\n",
    "    for kmer in all_possible_kmers:\n",
    "        frequency = 0\n",
    "        for i in range(len(Text) - k + 1):\n",
    "            if hammingDistance(kmer, Text[i:i+k].upper()) <= d:\n",
    "                frequency += 1\n",
    "        kmers_frequency[kmer] = frequency \n",
    "    most_frequent_kmers = \" \".join([kmer for kmer, frequency in kmers_frequency.items() if frequency == max(kmers_frequency.values())])\n",
    "    return most_frequent_kmers\n",
    "\n",
    "Txt = input()\n",
    "k, d = input().split()\n",
    "\n",
    "mostFrequentWordsWithMismatches(Txt, int(k), int(d))"
   ]
  },
  {
   "cell_type": "markdown",
   "id": "00eed540",
   "metadata": {
    "id": "00eed540"
   },
   "source": [
    "<hr>"
   ]
  },
  {
   "cell_type": "markdown",
   "id": "554ca39a",
   "metadata": {
    "id": "554ca39a"
   },
   "source": [
    "## Question-5: Find Frequent Words with Mismatches and Reverse Complements ([BA1J](http://rosalind.info/problems/ba1j/))"
   ]
  },
  {
   "cell_type": "markdown",
   "id": "76c8d491",
   "metadata": {
    "id": "76c8d491"
   },
   "source": [
    "<em>Find the most frequent k-mers (with mismatches and reverse complements) in a DNA string.</em>\n",
    "\n",
    "<strong>Given:</strong> <em>A DNA string Text as well as integers k and d.</em>\n",
    "\n",
    "<strong>Return:</strong> <em> All k-mers Pattern maximizing the sum Count<sub>d</sub>(Text, Pattern) + Count<sub>d</sub>(Text, <span style=\"text-decoration: overline;\">Pattern</span>) over all possible k-mers.</em>\n"
   ]
  },
  {
   "cell_type": "markdown",
   "id": "bbce5613",
   "metadata": {
    "id": "bbce5613"
   },
   "source": [
    "**Sample Dataset:** \n",
    "    \n",
    "        ACGTTGCATGTCGCATGATGCATGAGAGCT\n",
    "        4 1\n",
    "    "
   ]
  },
  {
   "cell_type": "markdown",
   "id": "a94a681e",
   "metadata": {
    "id": "a94a681e"
   },
   "source": [
    "**Sample Output:** \n",
    "    \n",
    "        ACAT ATGT\n",
    "   "
   ]
  },
  {
   "cell_type": "markdown",
   "id": "b7230359",
   "metadata": {
    "id": "b7230359"
   },
   "source": [
    "### Solution-5:"
   ]
  },
  {
   "cell_type": "code",
   "execution_count": 5,
   "id": "dbd07e06",
   "metadata": {
    "id": "dbd07e06"
   },
   "outputs": [
    {
     "name": "stdout",
     "output_type": "stream",
     "text": [
      "ACGTTGCATGTCGCATGATGCATGAGAGCT\n",
      "4 1\n"
     ]
    },
    {
     "data": {
      "text/plain": [
       "'ACAT ATGT'"
      ]
     },
     "execution_count": 5,
     "metadata": {},
     "output_type": "execute_result"
    }
   ],
   "source": [
    "import itertools\n",
    "\n",
    "def reverseComplement(DNA):\n",
    "    translation_tab = DNA.maketrans(\"AGCTagct\", \"TCGAtcga\")\n",
    "    complement_dna = DNA.translate(translation_tab)\n",
    "    reverse = complement_dna[::-1]\n",
    "    return reverse\n",
    "\n",
    "def hammingDistance(DNA1, DNA2):\n",
    "    return int(sum(1 for nucleotide1, nucleotide2 in zip(DNA1, DNA2) if nucleotide1 != nucleotide2))\n",
    "\n",
    "def mostFrequentWordsWithMismatches(Text, k, d):\n",
    "    kmers_frequency = {}\n",
    "    all_possible_kmers = list(map(''.join, itertools.product('ACGT', repeat=k)))\n",
    "    for kmer in all_possible_kmers:\n",
    "        frequency= 0\n",
    "        for i in range(len(Text) - k + 1):\n",
    "            if hammingDistance(kmer, Text[i:i+k].upper()) <= d:\n",
    "                frequency += 1\n",
    "            if hammingDistance(reverseComplement(kmer), Text[i:i+k].upper()) <= d:\n",
    "                frequency += 1\n",
    "        kmers_frequency[kmer] = frequency \n",
    "    most_frequent_kmers = \" \".join([kmer for kmer, frequency in kmers_frequency.items() if frequency == max(kmers_frequency.values())])\n",
    "    return most_frequent_kmers\n",
    "\n",
    "Txt = input()\n",
    "k, d = input().split()\n",
    "\n",
    "mostFrequentWordsWithMismatches(Txt, int(k), int(d))\n"
   ]
  },
  {
   "cell_type": "markdown",
   "id": "d1360b40",
   "metadata": {
    "id": "d1360b40"
   },
   "source": [
    "<hr>\n",
    "<hr>"
   ]
  },
  {
   "cell_type": "markdown",
   "id": "f106cdac",
   "metadata": {
    "id": "f106cdac"
   },
   "source": [
    "<p align=\"center\">\n",
    "<b>Thats all. I tried to keep my code short and simple.</b>\n",
    "</p>\n",
    "<h4>Thank You</h4>"
   ]
  },
  {
   "cell_type": "markdown",
   "id": "1fa7d0a9",
   "metadata": {
    "id": "1fa7d0a9"
   },
   "source": [
    "<hr>"
   ]
  }
 ],
 "metadata": {
  "colab": {
   "collapsed_sections": [],
   "name": "173_115_037_task_1_.ipynb",
   "provenance": []
  },
  "kernelspec": {
   "display_name": "Python 3",
   "language": "python",
   "name": "python3"
  },
  "language_info": {
   "codemirror_mode": {
    "name": "ipython",
    "version": 3
   },
   "file_extension": ".py",
   "mimetype": "text/x-python",
   "name": "python",
   "nbconvert_exporter": "python",
   "pygments_lexer": "ipython3",
   "version": "3.8.8"
  }
 },
 "nbformat": 4,
 "nbformat_minor": 5
}
